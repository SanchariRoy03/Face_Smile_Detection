{
 "cells": [
  {
   "cell_type": "code",
   "execution_count": 16,
   "id": "52df3d54-107c-478b-a547-2a8573e8d3ae",
   "metadata": {},
   "outputs": [],
   "source": [
    "import cv2\n",
    "\n",
    "face_cascade = cv2.CascadeClassifier(\"haarcascade_frontalface_default.xml\")\n",
    "eye_cascade = cv2.CascadeClassifier(\"haarcascade_eye.xml\")\n",
    "smile_cascade = cv2.CascadeClassifier(\"haarcascade_smile.xml\")\n",
    "cap = cv2.VideoCapture(1)\n",
    "width = int(cap.get(cv2.CAP_PROP_FRAME_WIDTH))\n",
    "height = int(cap.get(cv2.CAP_PROP_FRAME_HEIGHT))\n",
    "recorder = cv2.VideoWriter('face_detcted3.mp4',cv2.VideoWriter_fourcc(*'XVID'),20,(width,height))\n",
    "while True:\n",
    "    ret, frame = cap.read()\n",
    "    gray = cv2.cvtColor(frame, cv2.COLOR_BGR2GRAY)\n",
    "    faces = face_cascade.detectMultiScale(gray, 1.1,5)\n",
    "    \n",
    "    for (x,y,w,h) in faces:\n",
    "        cv2.rectangle(frame,(x,y), (x+w, y+h),(0,255,0),2)\n",
    "        \n",
    "        roi_gray = gray[y:y+h,x:x+w]\n",
    "    #gray[150:150+80, 100:100+80]\n",
    "        roi_color = frame[y:y+h, x:x+w]\n",
    "        roi_gray_eyes = roi_gray[0:h // 2, :]\n",
    "        eyes = eye_cascade.detectMultiScale(roi_gray_eyes, scaleFactor=1.55, minNeighbors=15)\n",
    "        if len(eyes)>0:\n",
    "            cv2.putText(frame,\"Eyes Detected\", (x,y-30),cv2.FONT_HERSHEY_SIMPLEX,1, (255, 0, 0),2)\n",
    "\n",
    "        smiles = smile_cascade.detectMultiScale(roi_gray, 1.7,22)\n",
    "        if len(smiles)>0:\n",
    "            cv2.putText(frame,\"Smiles Detected\",(x,y-10),cv2.FONT_HERSHEY_SIMPLEX,1, (255, 0, 0),2)\n",
    "    recorder.write(frame)\n",
    "    cv2.imshow(\"Webcam face detection\",frame)\n",
    "\n",
    "    if cv2.waitKey(1) & 0xFF == ord('q'):\n",
    "        break\n",
    "cap.release()\n",
    "recorder.release()\n",
    "cv2.destroyAllWindows()"
   ]
  },
  {
   "cell_type": "code",
   "execution_count": null,
   "id": "d14fbc32-3d15-4ca6-a81f-5ffd1960ec4d",
   "metadata": {},
   "outputs": [],
   "source": []
  },
  {
   "cell_type": "code",
   "execution_count": null,
   "id": "43115077-3366-49f0-bfa7-22be928b67d4",
   "metadata": {},
   "outputs": [],
   "source": []
  }
 ],
 "metadata": {
  "kernelspec": {
   "display_name": "Python 3 (ipykernel)",
   "language": "python",
   "name": "python3"
  },
  "language_info": {
   "codemirror_mode": {
    "name": "ipython",
    "version": 3
   },
   "file_extension": ".py",
   "mimetype": "text/x-python",
   "name": "python",
   "nbconvert_exporter": "python",
   "pygments_lexer": "ipython3",
   "version": "3.12.6"
  }
 },
 "nbformat": 4,
 "nbformat_minor": 5
}
